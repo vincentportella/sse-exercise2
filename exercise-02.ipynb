{
 "cells": [
  {
   "cell_type": "code",
   "execution_count": 145,
   "metadata": {},
   "outputs": [],
   "source": [
    "import re\n",
    "import git\n",
    "import math\n",
    "\n",
    "# Set the path of the git repository and the commit id\n",
    "\n",
    "repo_name = 'spring-framework'\n",
    "id = '2ae6a6a3415eebc57babcb9d3e5505887eda6d8a'\n",
    "\n",
    "repo = git.Repo(repo_name)\n",
    "commit = repo.commit(id)"
   ]
  },
  {
   "cell_type": "code",
   "execution_count": 91,
   "metadata": {},
   "outputs": [
    {
     "name": "stdout",
     "output_type": "stream",
     "text": [
      "Title and message\n",
      "-----------------\n",
      "\n",
      "SOLR-12316: Do not allow to use absolute URIs for including other files in solrconfig.xml and schema parsing\n",
      "\n",
      "# Conflicts:\n",
      "#\tsolr/CHANGES.txt\n",
      "\n"
     ]
    }
   ],
   "source": [
    "print('Title and message')\n",
    "print('-----------------', end='\\n\\n')\n",
    "print(commit.message)"
   ]
  },
  {
   "cell_type": "code",
   "execution_count": 81,
   "metadata": {},
   "outputs": [
    {
     "name": "stdout",
     "output_type": "stream",
     "text": [
      "Number of affected files\n",
      "------------------------\n",
      "\n",
      "3 files were affected\n"
     ]
    }
   ],
   "source": [
    "print('Number of affected files')\n",
    "print('------------------------', end='\\n\\n')\n",
    "\n",
    "if commit.stats.total['files'] == 1:\n",
    "    print(str(commit.stats.total['files']) + ' file was affected')\n",
    "else:\n",
    "    print(str(commit.stats.total['files']) + ' files were affected')"
   ]
  },
  {
   "cell_type": "code",
   "execution_count": 82,
   "metadata": {},
   "outputs": [
    {
     "name": "stdout",
     "output_type": "stream",
     "text": [
      "Number of affected directories\n",
      "------------------------------\n",
      "\n",
      "solr\n",
      "solr/core/src/java/org/apache/solr/util\n",
      "solr/core/src/test/org/apache/solr/util\n",
      "\n",
      "3 directories were affected\n"
     ]
    }
   ],
   "source": [
    "print('Number of affected directories')\n",
    "print('------------------------------', end='\\n\\n')\n",
    "\n",
    "uniqueDir = set()\n",
    "\n",
    "for file in commit.stats.files:\n",
    "    # Split and reconstruct to find the path of each file\n",
    "    directories = file.split('/')\n",
    "    uniqueDir.add('/'.join(directories[:-1]))\n",
    "    print('/'.join(directories[:-1]))\n",
    "    \n",
    "if len(uniqueDir) == 1:\n",
    "    print('\\n' + str(len(uniqueDir)) + ' directory was affected')\n",
    "else:\n",
    "    print('\\n' + str(len(uniqueDir)) + ' directories were affected')"
   ]
  },
  {
   "cell_type": "code",
   "execution_count": 83,
   "metadata": {},
   "outputs": [
    {
     "name": "stdout",
     "output_type": "stream",
     "text": [
      "Total lines removed (including comments and blank lines)\n",
      "--------------------------------------------------------\n",
      "\n",
      "12 lines were removed\n"
     ]
    }
   ],
   "source": [
    "print('Total lines removed (including comments and blank lines)')\n",
    "print('--------------------------------------------------------', end='\\n\\n')\n",
    "print(str(commit.stats.total['deletions']) + ' lines were removed')"
   ]
  },
  {
   "cell_type": "code",
   "execution_count": 84,
   "metadata": {},
   "outputs": [
    {
     "name": "stdout",
     "output_type": "stream",
     "text": [
      "Total lines added (including comments and blank lines)\n",
      "------------------------------------------------------\n",
      "\n",
      "24 lines were inserted\n"
     ]
    }
   ],
   "source": [
    "print('Total lines added (including comments and blank lines)')\n",
    "print('------------------------------------------------------', end='\\n\\n')\n",
    "print(str(commit.stats.total['insertions']) + ' lines were inserted')"
   ]
  },
  {
   "cell_type": "code",
   "execution_count": 143,
   "metadata": {},
   "outputs": [
    {
     "name": "stdout",
     "output_type": "stream",
     "text": [
      "Total lines removed (excluding comments and blank lines)\n",
      "--------------------------------------------------------\n",
      "\n",
      "30 lines were removed\n"
     ]
    }
   ],
   "source": [
    "print('Total lines removed (excluding comments and blank lines)')\n",
    "print('--------------------------------------------------------', end='\\n\\n')\n",
    "\n",
    "# Exclude whitespace and comments\n",
    "\n",
    "diff = repo.git.diff(commit, commit.parents[0])\n",
    "total_lines = commit.stats.total['deletions'] - len(re.findall(re.compile(r'^-((\\s*)\\/\\/|\\n)', re.MULTILINE), diff))\n",
    "print(str(total_lines) + ' lines were removed')"
   ]
  },
  {
   "cell_type": "code",
   "execution_count": 144,
   "metadata": {},
   "outputs": [
    {
     "name": "stdout",
     "output_type": "stream",
     "text": [
      "Total lines inserted (excluding comments and blank lines)\n",
      "---------------------------------------------------------\n",
      "\n",
      "204 lines were inserted\n"
     ]
    }
   ],
   "source": [
    "print('Total lines inserted (excluding comments and blank lines)')\n",
    "print('---------------------------------------------------------', end='\\n\\n')\n",
    "\n",
    "# Exclude whitespace and comments\n",
    "\n",
    "total_lines = commit.stats.total['insertions'] - len(re.findall(re.compile(r'^\\+((\\s*)\\/\\/|\\n)', re.MULTILINE), diff))\n",
    "print(str(total_lines) + ' lines were inserted')"
   ]
  },
  {
   "cell_type": "code",
   "execution_count": 87,
   "metadata": {},
   "outputs": [
    {
     "name": "stdout",
     "output_type": "stream",
     "text": [
      "Days since previous commit for each file\n",
      "----------------------------------------\n",
      "\n",
      "1 days:\tsolr/CHANGES.txt\n",
      "821 days:\tsolr/core/src/java/org/apache/solr/util/SystemIdResolver.java\n",
      "821 days:\tsolr/core/src/test/org/apache/solr/util/TestSystemIdResolver.java\n",
      "\n",
      "Average: 548.582449845679\n"
     ]
    }
   ],
   "source": [
    "print('Days since previous commit for each file')\n",
    "print('----------------------------------------', end='\\n\\n')\n",
    "\n",
    "average = 0\n",
    "\n",
    "for file in commit.stats.files:\n",
    "    commits = repo.iter_commits('--all', paths=file)\n",
    "\n",
    "    finished = False\n",
    "    previous_commit = None\n",
    "\n",
    "    # Find the commit which is next in the list after the current commit\n",
    "    \n",
    "    for com in commits:\n",
    "        if finished:\n",
    "            previous_commit = com\n",
    "            break\n",
    "\n",
    "        if str(com) == id:\n",
    "            finished = True\n",
    "\n",
    "    if previous_commit is None:\n",
    "        print('File created:', end='\\t')\n",
    "    else:\n",
    "        # Find the number of days between the commits\n",
    "        time_diff = commit.committed_date - previous_commit.committed_date\n",
    "        print(math.floor(time_diff / 86400), end=' days:\\t')\n",
    "        average += time_diff / 86400\n",
    "\n",
    "    print(file)\n",
    "\n",
    "print('\\nAverage: ' + str(average / len(commit.stats.files)))"
   ]
  },
  {
   "cell_type": "code",
   "execution_count": 88,
   "metadata": {},
   "outputs": [
    {
     "name": "stdout",
     "output_type": "stream",
     "text": [
      "Number of modifications to each file before the current commit\n",
      "--------------------------------------------------------------\n",
      "\n",
      "4462\tsolr/CHANGES.txt\n",
      "7\tsolr/core/src/java/org/apache/solr/util/SystemIdResolver.java\n",
      "6\tsolr/core/src/test/org/apache/solr/util/TestSystemIdResolver.java\n",
      "\n",
      "Average: 1491.6666666666667\n"
     ]
    }
   ],
   "source": [
    "print('Number of modifications to each file before the current commit')\n",
    "print('--------------------------------------------------------------', end='\\n\\n')\n",
    "\n",
    "average = 0\n",
    "\n",
    "for file in commit.stats.files:\n",
    "    count = -1\n",
    "\n",
    "    commits = repo.iter_commits('--all', paths=file)\n",
    "    \n",
    "    # Count the number of modifications to each file before the current commit\n",
    "    \n",
    "    for com in commits:\n",
    "        if count >= 0:\n",
    "            count += 1\n",
    "\n",
    "        if str(com) == id:\n",
    "            count = 0\n",
    "\n",
    "    average += count\n",
    "    print(count, end='\\t')\n",
    "    print(file)\n",
    "    \n",
    "print('\\nAverage: ' + str(average / len(commit.stats.files)))"
   ]
  },
  {
   "cell_type": "code",
   "execution_count": 114,
   "metadata": {},
   "outputs": [
    {
     "name": "stdout",
     "output_type": "stream",
     "text": [
      "Names of developers who worked on each file\n",
      "-------------------------------------------\n",
      "\n",
      "solr/CHANGES.txt\n",
      "Jason Gerlowski\n",
      "Gregory Chanan\n",
      "tballison\n",
      "Sami Siren\n",
      "Tommaso Teofili\n",
      "Ishan Chattopadhyaya\n",
      "Shai Erera\n",
      "nknize\n",
      "Tomas Eduardo Fernandez Lobbe\n",
      "Varun Thacker\n",
      "David Smiley\n",
      "yonik\n",
      "Mike McCandless\n",
      "Joel Bernstein\n",
      "Grant Ingersoll\n",
      "Greg Bowyer\n",
      "Hrishikesh Gadre\n",
      "Dennis Gove\n",
      "Areek Zillur\n",
      "Christopher John Male\n",
      "jbernste\n",
      "koji\n",
      "thelabdude\n",
      "Jeff\n",
      "James Dyer\n",
      "Erick\n",
      "Jan Høydahl\n",
      "noble\n",
      "Alan Woodward\n",
      "Steven Rowe\n",
      "Uwe Schindler\n",
      "markrmiller\n",
      "Anshum Gupta\n",
      "Ramkumar Aiyengar\n",
      "Shawn Heisey\n",
      "Mark Robert Miller\n",
      "Mark Miller\n",
      "Tomás Fernández Löbbe\n",
      "Christine Poerschke\n",
      "Mike Drob\n",
      "David Wayne Smiley\n",
      "Ryan McKinley\n",
      "Houston Putman\n",
      "Cao Manh Dat\n",
      "epugh\n",
      "Chris Hostetter\n",
      "Andrzej Bialecki\n",
      "Shalin Shekhar Mangar\n",
      "Martijn van Groningen\n",
      "Simon Willnauer\n",
      "Ryan Ernst\n",
      "Yonik Seeley\n",
      "Doron Cohen\n",
      "Erik Hatcher\n",
      "Adrien Grand\n",
      "Upayavira\n",
      "elyograg\n",
      "Benson Margulies\n",
      "jdyer1\n",
      "anshum\n",
      "Michael McCandless\n",
      "Stefan Matheis\n",
      "Toke Eskildsen\n",
      "Chris M. Hostetter\n",
      "Scott Blum\n",
      "Tomas Fernandez Lobbe\n",
      "Timothy Potter\n",
      "Dawid Weiss\n",
      "Cassandra Targett\n",
      "Noble Paul\n",
      "Mikhail Khludnev\n",
      "Robert Muir\n",
      "Stanisław Osiński\n",
      "Christian Moen\n",
      "Kevin Risden\n",
      "Steve Rowe\n",
      "Erick Erickson\n",
      "Alexandre Rafalovitch\n",
      "Koji Sekiguchi\n",
      "Jim Ferenczi\n",
      "Total: 80\n",
      "\n",
      "solr/core/src/java/org/apache/solr/util/SystemIdResolver.java\n",
      "Shai Erera\n",
      "Steven Rowe\n",
      "Uwe Schindler\n",
      "Anshum Gupta\n",
      "Christopher John Male\n",
      "Total: 5\n",
      "\n",
      "solr/core/src/test/org/apache/solr/util/TestSystemIdResolver.java\n",
      "Shai Erera\n",
      "Alan Woodward\n",
      "Uwe Schindler\n",
      "Mark Robert Miller\n",
      "Christopher John Male\n",
      "Total: 5\n",
      "\n",
      "Total:   80\n",
      "Average: 30.0\n"
     ]
    }
   ],
   "source": [
    "print('Names of developers who worked on each file')\n",
    "print('-------------------------------------------', end='\\n\\n')\n",
    "\n",
    "average = 0\n",
    "total = set()\n",
    "\n",
    "for file in commit.stats.files:\n",
    "    print(file)\n",
    "    \n",
    "    # Add the names to a set to remove duplicates\n",
    "\n",
    "    names = set()\n",
    "    commits = repo.iter_commits('--all', paths=file)\n",
    "\n",
    "    for com in commits:\n",
    "        total.add(com.author.name)\n",
    "        names.add(com.author.name)\n",
    "\n",
    "    for name in names:\n",
    "        print(name)\n",
    " \n",
    "    average += len(names)\n",
    "    print('Total: ' + str(len(names)), end='\\n\\n')\n",
    "    \n",
    "print('Total:   ' + str(len(total)))\n",
    "print('Average: ' + str(average / len(commit.stats.files)))"
   ]
  },
  {
   "cell_type": "code",
   "execution_count": 116,
   "metadata": {},
   "outputs": [
    {
     "name": "stdout",
     "output_type": "stream",
     "text": [
      "Commits per developer\n",
      "---------------------\n",
      "\n",
      "Jason Gerlowski              : 13\n",
      "Gregory Chanan               : 48\n",
      "tballison                    : 5\n",
      "Sami Siren                   : 59\n",
      "Tommaso Teofili              : 150\n",
      "Ishan Chattopadhyaya         : 96\n",
      "Shai Erera                   : 417\n",
      "nknize                       : 53\n",
      "Tomas Eduardo Fernandez Lobbe: 35\n",
      "Varun Thacker                : 124\n",
      "David Smiley                 : 194\n",
      "yonik                        : 1974\n",
      "Mike McCandless              : 511\n",
      "Joel Bernstein               : 415\n",
      "Grant Ingersoll              : 586\n",
      "Greg Bowyer                  : 7\n",
      "Hrishikesh Gadre             : 2\n",
      "Dennis Gove                  : 59\n",
      "Areek Zillur                 : 13\n",
      "Christopher John Male        : 106\n",
      "jbernste                     : 495\n",
      "koji                         : 253\n",
      "thelabdude                   : 192\n",
      "Jeff                         : 1\n",
      "James Dyer                   : 117\n",
      "Erick                        : 340\n",
      "Jan Høydahl                  : 228\n",
      "noble                        : 936\n",
      "Alan Woodward                : 334\n",
      "Steven Rowe                  : 833\n",
      "Uwe Schindler                : 1848\n",
      "markrmiller                  : 1954\n",
      "Anshum Gupta                 : 151\n",
      "Ramkumar Aiyengar            : 46\n",
      "Shawn Heisey                 : 45\n",
      "Mark Robert Miller           : 1782\n",
      "Mark Miller                  : 24\n",
      "Tomás Fernández Löbbe        : 3\n",
      "Christine Poerschke          : 374\n",
      "Mike Drob                    : 3\n",
      "David Wayne Smiley           : 330\n",
      "Ryan McKinley                : 655\n",
      "Houston Putman               : 4\n",
      "Cao Manh Dat                 : 156\n",
      "epugh                        : 1\n",
      "Chris Hostetter              : 148\n",
      "Andrzej Bialecki             : 174\n",
      "Shalin Shekhar Mangar        : 1143\n",
      "Martijn van Groningen        : 146\n",
      "Simon Willnauer              : 632\n",
      "Ryan Ernst                   : 100\n",
      "Yonik Seeley                 : 1848\n",
      "Doron Cohen                  : 128\n",
      "Erik Hatcher                 : 1033\n",
      "Adrien Grand                 : 816\n",
      "Upayavira                    : 53\n",
      "elyograg                     : 46\n",
      "Benson Margulies             : 12\n",
      "jdyer1                       : 14\n",
      "anshum                       : 171\n",
      "Michael McCandless           : 3039\n",
      "Stefan Matheis               : 119\n",
      "Toke Eskildsen               : 1\n",
      "Chris M. Hostetter           : 849\n",
      "Scott Blum                   : 11\n",
      "Tomas Fernandez Lobbe        : 81\n",
      "Timothy Potter               : 190\n",
      "Dawid Weiss                  : 344\n",
      "Cassandra Targett            : 190\n",
      "Noble Paul                   : 933\n",
      "Mikhail Khludnev             : 108\n",
      "Robert Muir                  : 3567\n",
      "Stanisław Osiński            : 21\n",
      "Christian Moen               : 15\n",
      "Kevin Risden                 : 98\n",
      "Steve Rowe                   : 306\n",
      "Erick Erickson               : 316\n",
      "Alexandre Rafalovitch        : 28\n",
      "Koji Sekiguchi               : 239\n",
      "Jim Ferenczi                 : 38\n",
      "\n",
      "Max: 3567\n",
      "Min: 1\n"
     ]
    }
   ],
   "source": [
    "print('Commits per developer')\n",
    "print('---------------------', end='\\n\\n')\n",
    "\n",
    "max = 0\n",
    "number_of_commits = {}\n",
    "\n",
    "for name in total:\n",
    "    if len(name) > max:\n",
    "        max = len(name)\n",
    "        \n",
    "    # Get the number of commits by each author\n",
    "\n",
    "    loginfo = repo.git.log('--author=' + name)\n",
    "    number_of_commits[name] = len(re.findall(re.compile(r'^commit.*', re.MULTILINE), loginfo))\n",
    "\n",
    "max_commits = 0\n",
    "min_commits = 0\n",
    "    \n",
    "for name in number_of_commits:\n",
    "    print(name, end='')\n",
    "    \n",
    "    for i in range(len(name), max):\n",
    "        print(' ', end='')\n",
    "        \n",
    "    print(': ', end='')\n",
    "    print(number_of_commits[name])\n",
    "    \n",
    "    # Get max and min commits\n",
    "    \n",
    "    if number_of_commits[name] > max_commits:\n",
    "        max_commits = number_of_commits[name]\n",
    "        \n",
    "    if number_of_commits[name] < min_commits or min_commits == 0:\n",
    "        min_commits = number_of_commits[name]\n",
    "\n",
    "print('\\nMax: ' + str(max_commits))\n",
    "print('Min: ' + str(min_commits))"
   ]
  },
  {
   "cell_type": "code",
   "execution_count": null,
   "metadata": {},
   "outputs": [],
   "source": []
  },
  {
   "cell_type": "code",
   "execution_count": null,
   "metadata": {},
   "outputs": [],
   "source": []
  }
 ],
 "metadata": {
  "kernelspec": {
   "display_name": "Python 3",
   "language": "python",
   "name": "python3"
  },
  "language_info": {
   "codemirror_mode": {
    "name": "ipython",
    "version": 3
   },
   "file_extension": ".py",
   "mimetype": "text/x-python",
   "name": "python",
   "nbconvert_exporter": "python",
   "pygments_lexer": "ipython3",
   "version": "3.6.8"
  }
 },
 "nbformat": 4,
 "nbformat_minor": 2
}
